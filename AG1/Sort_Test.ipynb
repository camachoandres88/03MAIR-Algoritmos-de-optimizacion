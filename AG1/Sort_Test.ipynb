{
  "nbformat": 4,
  "nbformat_minor": 0,
  "metadata": {
    "colab": {
      "name": "Sort_Test.ipynb",
      "version": "0.3.2",
      "provenance": [],
      "include_colab_link": true
    },
    "kernelspec": {
      "name": "python3",
      "display_name": "Python 3"
    }
  },
  "cells": [
    {
      "cell_type": "markdown",
      "metadata": {
        "id": "view-in-github",
        "colab_type": "text"
      },
      "source": [
        "<a href=\"https://colab.research.google.com/github/camachoandres88/03MAIR-Algoritmos-de-optimizacion/blob/master/AG1/Sort_Test.ipynb\" target=\"_parent\"><img src=\"https://colab.research.google.com/assets/colab-badge.svg\" alt=\"Open In Colab\"/></a>"
      ]
    },
    {
      "metadata": {
        "id": "3C_2IcgegCv7",
        "colab_type": "code",
        "colab": {
          "base_uri": "https://localhost:8080/",
          "height": 34
        },
        "outputId": "c4d9f732-b2d7-434f-df3e-0b23b3d86bcb"
      },
      "cell_type": "code",
      "source": [
        "import sorting\n",
        "\n",
        "lista = [4,5,22,56,34,23,1,345]\n",
        "lista_ordenada = sorting.bubble(lista)\n",
        "lista_ordenada"
      ],
      "execution_count": 5,
      "outputs": [
        {
          "output_type": "execute_result",
          "data": {
            "text/plain": [
              "[1, 4, 5, 22, 23, 34, 56, 345]"
            ]
          },
          "metadata": {
            "tags": []
          },
          "execution_count": 5
        }
      ]
    },
    {
      "metadata": {
        "id": "XhbJ0RC0jmFR",
        "colab_type": "text"
      },
      "cell_type": "markdown",
      "source": [
        "Este es mi primer codigo en github "
      ]
    }
  ]
}