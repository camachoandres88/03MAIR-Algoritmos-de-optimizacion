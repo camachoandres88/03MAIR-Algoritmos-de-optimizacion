{
  "nbformat": 4,
  "nbformat_minor": 0,
  "metadata": {
    "colab": {
      "name": "Seminario_Jose-Camacho.ipynb",
      "version": "0.3.2",
      "provenance": [],
      "collapsed_sections": [],
      "include_colab_link": true
    },
    "kernelspec": {
      "name": "python3",
      "display_name": "Python 3"
    }
  },
  "cells": [
    {
      "cell_type": "markdown",
      "metadata": {
        "id": "view-in-github",
        "colab_type": "text"
      },
      "source": [
        "<a href=\"https://colab.research.google.com/github/camachoandres88/03MAIR-Algoritmos-de-optimizacion/blob/master/SEMINARIOS/Seminario_Jose_Camacho.ipynb\" target=\"_parent\"><img src=\"https://colab.research.google.com/assets/colab-badge.svg\" alt=\"Open In Colab\"/></a>"
      ]
    },
    {
      "metadata": {
        "id": "hVbXYX-RfPWh",
        "colab_type": "text"
      },
      "cell_type": "markdown",
      "source": [
        "# Algoritmos de optimización - Seminario<br>\n",
        "Nombre y Apellidos: Jose Andres Camacho Pimentel   <br>\n",
        "Url: https://github.com/camachoandres88/03MAIR-Algoritmos-de-optimizacion/tree/master/SEMINARIOS<br>\n",
        "Problema:\n",
        ">2. Organizar los horarios de partidos de La Liga<br>\n",
        "\n",
        "Descripción del problema:(copiar enunciado)\n",
        "\n",
        "(*) La respuesta es obligatoria\n",
        "\n",
        "\n",
        "\n",
        "\n",
        "\n",
        "                                        "
      ]
    },
    {
      "metadata": {
        "id": "gDUVOYxFbKCN",
        "colab_type": "text"
      },
      "cell_type": "markdown",
      "source": [
        "\n",
        "Desde la La Liga de fútbol profesional se pretende organizar los horarios de los partidos\n",
        "de liga de de cada jornada. Se conocen algunos datos que nos deben llevar a diseñar un\n",
        "algoritmo que realice la asignación de los partidos a los horarios que maximice la\n",
        "audiencia. "
      ]
    },
    {
      "metadata": {
        "id": "8IDBndhecJEg",
        "colab_type": "code",
        "colab": {}
      },
      "cell_type": "code",
      "source": [
        ""
      ],
      "execution_count": 0,
      "outputs": []
    },
    {
      "metadata": {
        "id": "3_-exlrTgLd-",
        "colab_type": "text"
      },
      "cell_type": "markdown",
      "source": [
        "(*)¿Cuantas posibilidades hay sin tener en cuenta las restricciones?<br>\n",
        "\n",
        "¿Cuantas posibilidades hay teniendo en cuenta todas las restricciones.\n",
        "\n",
        "\n"
      ]
    },
    {
      "metadata": {
        "id": "WfCUqJyKhPcw",
        "colab_type": "text"
      },
      "cell_type": "markdown",
      "source": [
        "Para calcular todas las soluciones se hace necesario considerar dos casos, en el primero de ellos no asignaremos el mismo horario para mas de un partido y en el segundo podemos asignar el mismo horario a mas de un partido, con lo que tendremos:\n",
        ">1. Primer Caso: Debido a que solamente podemos asignar en un horario un solo partido, tendriamos 10 posibles horarios para 10 posibles partidos, lo que significaria una permutacion, esto significa que podemos calcular la cantidad de soluciones usando <b>10x9x8x7x6x5x4x3x2x1 = 10!</b> lo que seria igual a \t<b>3628800</b> soluciones.\n",
        ">2. Segundo Caso: Debido a que podemos asignar a mas de un partido el mismo horario, tenemos 10 partidos que pueden tener 10 posibles horarios cada uno, por lo que tendriamos algo del estilo <b>10^10</b> lo que seria igual a <b>10000000000</b> soluciones.\n",
        "\n",
        "\n",
        "Debido a la restriccion en la que siempre debemos asignar siempre un partido el lunes y otro el viernes, tomando esta definicion, se podria considerar que el dia lunes tendria uno y solo un partido, de la misma manera se comportaria el dia viernes, entonces para el primer caso arriba expuesto (sin repeticion de horario) no tendriamos problema pero para el segundo caso (con repeticion de horario) deberiamos considerar que para esos dos dias en especifico debemos asignar uno y solamente un partido por lo que podriamos calcular las soluciones usando:\n",
        "> <b>1x1x8x8x8x8x8x8x8x8 = 8^8</b>, lo que seria igual a <b>16777216</b> soluciones\n"
      ]
    },
    {
      "metadata": {
        "colab_type": "code",
        "id": "5JD5_zMycHox",
        "colab": {}
      },
      "cell_type": "code",
      "source": [
        ""
      ],
      "execution_count": 0,
      "outputs": []
    },
    {
      "metadata": {
        "id": "dzynfVJahHoY",
        "colab_type": "text"
      },
      "cell_type": "markdown",
      "source": [
        "Modelo para el espacio de soluciones<br>\n",
        "(*) ¿Cual es la estructura de datos que mejor se adapta al problema? Argumentalo.(Es posible que hayas elegido una al principio y veas la necesidad de cambiar, arguentalo)\n"
      ]
    },
    {
      "metadata": {
        "id": "xFIJrOwKi2Ti",
        "colab_type": "text"
      },
      "cell_type": "markdown",
      "source": [
        "Respuesta:<br>\n",
        "Etiquetaremos los partidos con un indice unico de 0 a N,  de igual forma, etiquetaremos los horarios con un indice de 0 a N. Decidi que la mejor forma de almacenar toda la informacion que teniamos disponible y poder acceder a ella sin complicaciones era a travez del uso de diccionarios que tendran como valor una estructura de vector. Se crearon dos diccionarios que corresponderan a los valores de entrada de los algoritmos:\n",
        "\n",
        ">**DETALLE_PARTIDOS**: La llave de este diccionario sera el indice unico de cada partido y el vector que esta asociado al valor del diccionario tendra la siguiente definicion  ['Descripcion Partido' , 'Audiencia en Millones', 'Valor Coincidencia']. \n",
        "\n",
        ">**DETALLE_HORARIOS**: La llave de este diccionario sera el indice unico de cada horario y el vector que esta asociado al valor del diccionario tendra la siguiente definicion  ['Descripcion Horario' , 'Coeficiente Horario']\n",
        "\n",
        "Al inicio cada elemento del vector asociado al valor de los diccionarios **DETALLE_PARTIDOS** y **DETALLE_HORARIOS** se trabajaron como diccionarios por separado, pero hacia bastante complejo interpretar el codigo, asi que finalmente opte por agrupar toda la informacion en un solo diccionario.\n",
        "\n",
        "Se creo una estructura de datos para almacenar las posibles jornadas obtenidas (**JORNADA**), cada item de la estructura tendra a su vez dos subitems: El subitem en la posicion cero (0)  representa el indice del horario y el subitem en la posicion uno (1) contiene una lista con los indices de los partidos asociados a ese horario.\n",
        "\n",
        "Finalmente se diseño un diccionario/objeto para entregar la solucion (**SOLUCION**), esta estructura solamente tendra dos items 'audiencia'  y la 'jornada'.\n",
        "\n",
        "\n",
        "\n",
        "\n"
      ]
    },
    {
      "metadata": {
        "id": "38c-7-ejhJmA",
        "colab_type": "code",
        "colab": {}
      },
      "cell_type": "code",
      "source": [
        "# items: indice, ['Descripcion Partido' , 'Audiencia en Millones', 'Valor Coincidencia']\n",
        "DETALLE_PARTIDOS = {\n",
        "  0: [ '(B)Espanol - (C)Huesca',0.75,3],\n",
        "  1: [ '(B)Getafe - (C)Rayo Vallecano',0.75,3],\n",
        "  2: [ '(B)Sevilla - (A)Barcelona',1.3,6],\n",
        "  3: [ '(B)Alaves - (B)Celta Vigo',0.9,4],\n",
        "  4: [ '(B)Ath Bilbao - (B)Eibar',0.9,4],\n",
        "  5: [ '(C)Leganes - (A)Valencia',1,5],\n",
        "  6: [ '(A)Atl Madrid - (B)Villareal',1.3,6],\n",
        "  7: [ '(C)Valladolid - (B)Betis',0.75,3],\n",
        "  8: [ '(B)Levante - (A)Real Madrid',1.3,6],\n",
        "  9: [ '(B)Girona - (B)Real Sociedad',0.9,6]\n",
        "}\n",
        "\n",
        "# items: indice, ['Descripcion Horario' , 'Coeficiente Horario']\n",
        "DETALLE_HORARIOS = {\n",
        "  0: ['V20:00',0.4],\n",
        "  1: ['S12:00',0.55],\n",
        "  2: ['S16:00',0.7],\n",
        "  3: ['S18:00',0.8],\n",
        "  4: ['S20:00',1],\n",
        "  5: ['D12:00',0.45],\n",
        "  6: ['D16:00',0.75],\n",
        "  7: ['D18:00',0.85],\n",
        "  8: ['D20:00',1],\n",
        "  9: ['L20:00',0.4]   \n",
        "}\n",
        "\n",
        "# item[0]=Horario, item[1]=Partidos\n",
        "JORNADA = [\n",
        "  [0, []],\n",
        "  [1, []],\n",
        "  [2, []],\n",
        "  [3, []],\n",
        "  [4, []],\n",
        "  [5, []],\n",
        "  [6, []],\n",
        "  [7, []],\n",
        "  [8, []],\n",
        "  [9, []]   \n",
        "]\n",
        "\n",
        "SOLUCION = {\n",
        "  'audiencia' : 0,\n",
        "  'jornada': []\n",
        "}\n"
      ],
      "execution_count": 0,
      "outputs": []
    },
    {
      "metadata": {
        "id": "7Z9U2W7bi-XS",
        "colab_type": "text"
      },
      "cell_type": "markdown",
      "source": [
        "Según el modelo para el espacio de soluciones<br>\n",
        "(*)¿Cual es la función objetivo?\n",
        "\n",
        "(*)¿Es un problema de maximización o minimización?"
      ]
    },
    {
      "metadata": {
        "id": "hBalWLM7j1_d",
        "colab_type": "text"
      },
      "cell_type": "markdown",
      "source": [
        "Respuesta:<br>\n",
        "Podemos diseñar una funcion que dada una jornada recorra todos los posibles horarios y para cada uno de ellos asigne cero, uno o varios partidos, de tal forma que encuentre la jornada que una vez evaluada tenga la mayor audiencia.\n",
        "\n",
        "Es un problema de Maximizacion"
      ]
    },
    {
      "metadata": {
        "id": "pDA-rg3Gj5Lz",
        "colab_type": "code",
        "colab": {}
      },
      "cell_type": "code",
      "source": [
        "\n",
        "def calcularValorHorarioCompartido(partidos, detallePartidos):\n",
        "  totalCoincidencia = 0;\n",
        "  audienciaMaxima = 0;\n",
        "  audiencia = 0;\n",
        "  for indicePartido in partidos:\n",
        "    totalCoincidencia += detallePartidos[indicePartido][2]\n",
        "    if audienciaMaxima < detallePartidos[indicePartido][1]:\n",
        "      audienciaMaxima = detallePartidos[indicePartido][1]\n",
        "    \n",
        "  for indicePartido in partidos:\n",
        "    audiencia+=  (detallePartidos[indicePartido][2] * audienciaMaxima)/totalCoincidencia\n",
        "    \n",
        "  return audiencia;\n",
        "\n",
        "def calcularValorJornada(jornada,coeficienteHorarios, detallePartidos):\n",
        "  total = 0;\n",
        "  for horario in jornada:\n",
        "    partidosEnHorario = horario[1]\n",
        "    indiceHorario = horario[0]\n",
        "    if len(partidosEnHorario) > 1:\n",
        "      maximaAudiencia = calcularValorHorarioCompartido(partidosEnHorario, detallePartidos)\n",
        "      total += maximaAudiencia * coeficienteHorarios[indiceHorario][1]\n",
        "    else:\n",
        "      total += detallePartidos[partidosEnHorario[0]][1] * coeficienteHorarios[indiceHorario][1]\n",
        "  return total;"
      ],
      "execution_count": 0,
      "outputs": []
    },
    {
      "metadata": {
        "id": "rlnTYgY1j6I2",
        "colab_type": "text"
      },
      "cell_type": "markdown",
      "source": [
        "Diseña un algoritmo para resolver el problema por fuerza bruta"
      ]
    },
    {
      "metadata": {
        "id": "70rDgxYXkC8r",
        "colab_type": "text"
      },
      "cell_type": "markdown",
      "source": [
        "Respuesta"
      ]
    },
    {
      "metadata": {
        "id": "LQ_sFsUgV7pj",
        "colab_type": "code",
        "colab": {}
      },
      "cell_type": "code",
      "source": [
        "#Decorador para calcular_tiempo a la función para la cual queremos calcular el tiempo de ejecución(Isabel Vázquez)\n",
        "\n",
        "from time import time\n",
        "#Función para calcular el tiempo de ejecución\n",
        "def calcular_tiempo(f):\n",
        "   \n",
        "    def wrapper(*args, **kwargs):     \n",
        "        inicio = time()       \n",
        "        resultado = f(*args, **kwargs)       \n",
        "        tiempo = time() - inicio\n",
        "        print(\"Tiempo de ejecución para algoritmo: \"+str(tiempo))\n",
        "        return resultado\n",
        "    \n",
        "    return wrapper"
      ],
      "execution_count": 0,
      "outputs": []
    },
    {
      "metadata": {
        "id": "dNFQrrdFoyMi",
        "colab_type": "code",
        "colab": {}
      },
      "cell_type": "code",
      "source": [
        "\n",
        "\n",
        "def evaluarAudiencia(jornadaModificada,mejorSolucion, coeficienteHorarios, detallePartidos):\n",
        "  audiencia = calcularValorJornada(jornadaModificada, coeficienteHorarios, detallePartidos)\n",
        "  if mejorSolucion['audiencia'] < audiencia:\n",
        "    mejorSolucion['jornada'] = jornadaModificada\n",
        "    mejorSolucion['audiencia'] = audiencia\n",
        "  return mejorSolucion;\n",
        "\n",
        "def calcularHorario(detallePartidos, partidosDisponibles, cantidadHorarios, jornada, mejorSolucion, coeficienteHorarios):\n",
        "  cantidadHorarios = cantidadHorarios - 1;\n",
        "  if len(partidosDisponibles)>0 and  cantidadHorarios >= 0: \n",
        "    for indexPartido in partidosDisponibles:\n",
        "      jornadaModificada = jornada.copy()\n",
        "      jornadaModificada.append([cantidadHorarios, [indexPartido]])\n",
        "      nuevosPartidosDisponibles = partidosDisponibles.copy()\n",
        "      nuevosPartidosDisponibles.pop(indexPartido, None)\n",
        "      mejorSolucion = calcularHorario(detallePartidos, nuevosPartidosDisponibles, cantidadHorarios, jornadaModificada, mejorSolucion, coeficienteHorarios)\n",
        "  else:\n",
        "    mejorSolucion = evaluarAudiencia(jornada,mejorSolucion, coeficienteHorarios, detallePartidos)\n",
        "\n",
        "  return mejorSolucion"
      ],
      "execution_count": 0,
      "outputs": []
    },
    {
      "metadata": {
        "id": "f1WI98wdF-se",
        "colab_type": "code",
        "outputId": "792dc47d-fbff-48bf-f990-64b4f8be9b17",
        "colab": {
          "base_uri": "https://localhost:8080/",
          "height": 68
        }
      },
      "cell_type": "code",
      "source": [
        "# Se calculo la mejor solucion teniendo en cuenta el primer caso, en el que no se comparten horarios para partidos. \n",
        "# En este caso se cumple la restriccion de que los horarios del lunes y viernes deben tener un partido asociado.\n",
        "\n",
        "@calcular_tiempo\n",
        "def calcularMejorJornada():\n",
        "  SOLUCION_INICIAL = {\n",
        "      'audiencia' : 0,\n",
        "      'jornada': []\n",
        "  }\n",
        "  mejorSolucion = calcularHorario(DETALLE_PARTIDOS,DETALLE_PARTIDOS, len(DETALLE_HORARIOS),[],SOLUCION_INICIAL,DETALLE_HORARIOS) \n",
        "  print('Mejor Solucion:')\n",
        "  print(mejorSolucion)\n",
        "  \n",
        "  \n",
        "calcularMejorJornada()\n"
      ],
      "execution_count": 5,
      "outputs": [
        {
          "output_type": "stream",
          "text": [
            "Mejor Solucion:\n",
            "{'audiencia': 7.2425, 'jornada': [[9, [0]], [8, [2]], [7, [6]], [6, [3]], [5, [1]], [4, [8]], [3, [5]], [2, [4]], [1, [9]], [0, [7]]]}\n",
            "Tiempo de ejecución para algoritmo: 26.21167302131653\n"
          ],
          "name": "stdout"
        }
      ]
    },
    {
      "metadata": {
        "id": "tgrnsC2nkFa8",
        "colab_type": "text"
      },
      "cell_type": "markdown",
      "source": [
        "Calcula la complejidad del algoritmo por fuerza bruta"
      ]
    },
    {
      "metadata": {
        "id": "9eUd3xwckP68",
        "colab_type": "text"
      },
      "cell_type": "markdown",
      "source": [
        "Respuesta"
      ]
    },
    {
      "metadata": {
        "id": "rvZWwL-ckRST",
        "colab_type": "code",
        "colab": {}
      },
      "cell_type": "code",
      "source": [
        ""
      ],
      "execution_count": 0,
      "outputs": []
    },
    {
      "metadata": {
        "id": "txbrmLmskReM",
        "colab_type": "text"
      },
      "cell_type": "markdown",
      "source": [
        "(*)Diseña un algoritmo que mejore la complejidad del algortimo por fuerza bruta. Argumenta porque crees que mejora el algoritmo por fuerza bruta"
      ]
    },
    {
      "metadata": {
        "id": "hLrVwt5QkZPD",
        "colab_type": "text"
      },
      "cell_type": "markdown",
      "source": [
        "Respuesta:<br>\n",
        "Diseñe un algoritmo voraz para dar una solucion al problema, mejora bastante el algoritmo por fuerza bruta debido a que no recorre todas las posibles opciones, sino que por el contrario en cada etapa evalua la mejor opcion. Como se pudo observar, las diferencia en cuanto a tiempos de respuesta es enorme, el algoritmo voraz mejora muchisimo el tiempo para obtener una buena solucion."
      ]
    },
    {
      "metadata": {
        "id": "m1eyM21Vkabg",
        "colab_type": "code",
        "outputId": "e70a8628-fad1-40ba-f8e5-842739e03fbf",
        "colab": {
          "base_uri": "https://localhost:8080/",
          "height": 68
        }
      },
      "cell_type": "code",
      "source": [
        "def obtenerMejorValor(diccionario, index):\n",
        "  mejorItem = 0;\n",
        "  mejorValor= 0;\n",
        "  for item in diccionario:\n",
        "    llaveItem = item\n",
        "    valorItem = diccionario[item][index]\n",
        "    if mejorValor < valorItem:\n",
        "      mejorValor = valorItem\n",
        "      mejorItem = llaveItem\n",
        "  return mejorItem\n",
        "\n",
        "\n",
        "\n",
        "def obtenerMejorSolucionEtapa(jornada, detallePartidos, coeficienteHorarios):\n",
        "  mejorAudienciaPartido = obtenerMejorValor(detallePartidos,1)\n",
        "  mejorCoeficienteHorario = obtenerMejorValor(coeficienteHorarios,1)\n",
        "  jornadaModificada = jornada.copy()\n",
        "  jornadaModificada.append([mejorCoeficienteHorario,[mejorAudienciaPartido]])\n",
        "  detallePartidosModificado = detallePartidos.copy()\n",
        "  detallePartidosModificado.pop(mejorAudienciaPartido, None)\n",
        "  coeficienteHorariosModificado = coeficienteHorarios.copy()\n",
        "  coeficienteHorariosModificado.pop(mejorCoeficienteHorario, None)\n",
        "  \n",
        "  if len(detallePartidosModificado) > 0  and  len(coeficienteHorariosModificado)>0:\n",
        "    return obtenerMejorSolucionEtapa(jornadaModificada, detallePartidosModificado, coeficienteHorariosModificado)\n",
        "  else:\n",
        "    return jornadaModificada\n",
        "    \n",
        "    \n",
        "@calcular_tiempo\n",
        "def calcularMejorJornadaV2(detallePartidos , detalleHorarios):\n",
        "  mejorJornada = obtenerMejorSolucionEtapa([], detallePartidos, detalleHorarios) \n",
        "  valorJornada = calcularValorJornada(mejorJornada,detalleHorarios, detallePartidos)\n",
        "  \n",
        "  SOLUCION = {\n",
        "    'audiencia' : valorJornada,\n",
        "    'jornada': mejorJornada\n",
        "  }\n",
        "  print('Mejor Solucion:')\n",
        "  print(SOLUCION)\n",
        "  \n",
        "  \n",
        "calcularMejorJornadaV2(DETALLE_PARTIDOS, DETALLE_HORARIOS)\n",
        "  "
      ],
      "execution_count": 6,
      "outputs": [
        {
          "output_type": "stream",
          "text": [
            "Mejor Solucion:\n",
            "{'audiencia': 7.2425, 'jornada': [[4, [2]], [8, [6]], [7, [8]], [3, [5]], [6, [3]], [2, [4]], [1, [9]], [5, [0]], [0, [1]], [9, [7]]]}\n",
            "Tiempo de ejecución para algoritmo: 0.000873565673828125\n"
          ],
          "name": "stdout"
        }
      ]
    },
    {
      "metadata": {
        "id": "eGDB4K6uk1iN",
        "colab_type": "text"
      },
      "cell_type": "markdown",
      "source": [
        "(*)Calcula la complejidad del algoritmo "
      ]
    },
    {
      "metadata": {
        "id": "NhpTh_BPk1ms",
        "colab_type": "text"
      },
      "cell_type": "markdown",
      "source": [
        "Respuesta:<br>\n",
        "El algoritmo voraz creado, en cada etapa  tiene solamente un ciclo que determina el mejor valor de acuerdo al set de partidos y otro  ciclo que determina el mejor valor de acuerdo al set de horarios, adicional a esto hace uso de una funcion recursiva que se llamara tantas veces como partidos sin horario asignado queden disponibles, los partidos van disminuyendo de uno en uno en la medida en que se les va asignando un horario, por lo tanto el calculo de la complejidad vendria dado por:<br>\n",
        "\n",
        "n = Tamaños de la lista partidos<br>\n",
        "m = Tamaño de la lista horarios<br>\n",
        "c = Operaciones elementales adicionales<br>\n",
        "\n",
        "T(n) = T(n-1) + n + m + c<br>\n",
        "\n",
        "Luego:<br>\n",
        "\n",
        "T(n) = (T(n-2) + (n-1) + (m-1)) + n + m +c<br>\n",
        "T(n) = T(n-2) + 2n + 2m + c<br>\n",
        "\n",
        "Entonces:<br>\n",
        "\n",
        "T(n) = T(n-k) + kn + km + c<br>\n",
        "\n",
        "Si reemplazamos **k = n-1** : <br>\n",
        "\n",
        "T(n) = T(1) + n^2 - n + nm -m + c <br>\n",
        "\n",
        "\n",
        "**Conclusion:** Con esto se podria decir que el orden de la funcion es  cuadrático, O (n2)\n",
        "\n",
        "\n",
        "\n",
        "\n"
      ]
    },
    {
      "metadata": {
        "id": "3M6QjTsSkmYe",
        "colab_type": "text"
      },
      "cell_type": "markdown",
      "source": [
        "Según el problema (y tenga sentido), diseña un juego de datos de entrada aleatorios"
      ]
    },
    {
      "metadata": {
        "id": "Jc3_OlyNkvjZ",
        "colab_type": "text"
      },
      "cell_type": "markdown",
      "source": [
        "Respuesta"
      ]
    },
    {
      "metadata": {
        "id": "sJ-N2etjkyWc",
        "colab_type": "code",
        "colab": {}
      },
      "cell_type": "code",
      "source": [
        "import random\n",
        "\n",
        "def crearEquipos(CANTIDAD_EQUIPOS):\n",
        "\n",
        "  # Creamos los equipos\n",
        "  EQUIPOS = []\n",
        "\n",
        "  for i in range(CANTIDAD_EQUIPOS):\n",
        "    if i < 4 :\n",
        "      EQUIPOS.append(['Equipo'+ str(i), 'A'])\n",
        "    elif i >= 4 and i < 14:\n",
        "      EQUIPOS.append(['Equipo'+ str(i), 'B'])\n",
        "    else:\n",
        "      EQUIPOS.append(['Equipo'+ str(i), 'C'])\n",
        "\n",
        "  # Reorganizamos los equipos\n",
        "  random.shuffle(EQUIPOS)  \n",
        "\n",
        "  return EQUIPOS\n",
        "\n",
        "\n",
        "# Calcular el tamaño de la audiencia\n",
        "def calcularTamanoAudiencia(TipoDeEquipos):\n",
        "  AUDIENCIA = {\n",
        "      'AA': 2,\n",
        "      'AB': 1.3,\n",
        "      'BA': 1.3,\n",
        "      'AC': 1,\n",
        "      'CA': 1,\n",
        "      'BB':0.9,\n",
        "      'BC':0.75,\n",
        "      'CB':0.75,\n",
        "      'CC':0.47\n",
        "      \n",
        "  }\n",
        "  return AUDIENCIA[TipoDeEquipos]\n",
        "\n",
        "\n",
        "# Calcular el valor si existe coincidencia\n",
        "def calcularValorCoincidencia(tipoEquipo1, tipoEquipo2):\n",
        "  PONDERACION = {\n",
        "      'A':4,\n",
        "      'B':2,\n",
        "      'C':1\n",
        "  }\n",
        "  return PONDERACION[tipoEquipo1]+ PONDERACION[tipoEquipo2]\n",
        "\n",
        "\n",
        "# Crear los partidos\n",
        "def crearPartidos(EQUIPOS):\n",
        "  \n",
        "  PARTIDOS_TEST = {}\n",
        "  indicePartidos = 0\n",
        "\n",
        "  for i in range(0,len(EQUIPOS),2):\n",
        "    equipo1 =  EQUIPOS[i]\n",
        "    equipo2 =  EQUIPOS[i+1]\n",
        "    descripcionPartido = '(' + equipo1[1]+') ' + equipo1[0] + ' - ' + equipo2[0] + ' ('+ equipo2[1] +')'\n",
        "    tamanoAudiencia = calcularTamanoAudiencia(equipo1[1]+equipo2[1])\n",
        "    valorCoincidencia = calcularValorCoincidencia(equipo1[1], equipo2[1])\n",
        "    PARTIDOS_TEST[indicePartidos] = [ descripcionPartido,tamanoAudiencia,valorCoincidencia]\n",
        "    indicePartidos+=1\n",
        "\n",
        "  return PARTIDOS_TEST  "
      ],
      "execution_count": 0,
      "outputs": []
    },
    {
      "metadata": {
        "id": "Zx0dzBdaQ-86",
        "colab_type": "code",
        "colab": {
          "base_uri": "https://localhost:8080/",
          "height": 187
        },
        "outputId": "d504e06b-ae42-4f62-b5e6-ac098514cd12"
      },
      "cell_type": "code",
      "source": [
        "CANTIDAD_EQUIPOS = 20;\n",
        "EQUIPOS = crearEquipos(CANTIDAD_EQUIPOS)\n",
        "PARTIDOS_TEST = crearPartidos(EQUIPOS)\n",
        "\n",
        "PARTIDOS_TEST"
      ],
      "execution_count": 8,
      "outputs": [
        {
          "output_type": "execute_result",
          "data": {
            "text/plain": [
              "{0: ['(B) Equipo7 - Equipo3 (A)', 1.3, 6],\n",
              " 1: ['(A) Equipo2 - Equipo10 (B)', 1.3, 6],\n",
              " 2: ['(B) Equipo13 - Equipo12 (B)', 0.9, 4],\n",
              " 3: ['(C) Equipo16 - Equipo19 (C)', 0.47, 2],\n",
              " 4: ['(C) Equipo17 - Equipo8 (B)', 0.75, 3],\n",
              " 5: ['(B) Equipo4 - Equipo6 (B)', 0.9, 4],\n",
              " 6: ['(C) Equipo14 - Equipo5 (B)', 0.75, 3],\n",
              " 7: ['(B) Equipo11 - Equipo15 (C)', 0.75, 3],\n",
              " 8: ['(B) Equipo9 - Equipo18 (C)', 0.75, 3],\n",
              " 9: ['(A) Equipo0 - Equipo1 (A)', 2, 8]}"
            ]
          },
          "metadata": {
            "tags": []
          },
          "execution_count": 8
        }
      ]
    },
    {
      "metadata": {
        "id": "zy5ZROmjlGo1",
        "colab_type": "text"
      },
      "cell_type": "markdown",
      "source": [
        "Aplica el algoritmo al juego de datos generado"
      ]
    },
    {
      "metadata": {
        "id": "_Cmj-PVylMsa",
        "colab_type": "text"
      },
      "cell_type": "markdown",
      "source": [
        "Respuesta"
      ]
    },
    {
      "metadata": {
        "id": "Jkx8GeiYlUz1",
        "colab_type": "code",
        "colab": {
          "base_uri": "https://localhost:8080/",
          "height": 88
        },
        "outputId": "7dddd4df-4132-450a-adc5-a9136061ccf6"
      },
      "cell_type": "code",
      "source": [
        "calcularMejorJornadaV2(PARTIDOS_TEST, DETALLE_HORARIOS)"
      ],
      "execution_count": 9,
      "outputs": [
        {
          "output_type": "stream",
          "text": [
            "Mejor Solucion:\n",
            "{'audiencia': 7.562999999999999, 'jornada': [[4, [9]], [8, [0]], [7, [1]], [3, [2]], [6, [5]], [2, [4]], [1, [6]], [5, [7]], [0, [8]], [9, [3]]]}\n",
            "Tiempo de ejecución para algoritmo: 0.0015993118286132812\n"
          ],
          "name": "stdout"
        }
      ]
    },
    {
      "metadata": {
        "colab_type": "text",
        "id": "eTFWUJQrtGcv"
      },
      "cell_type": "markdown",
      "source": [
        "Enumera las referencias que has utilizado(si ha sido necesario) para llevar a cabo el trabajo"
      ]
    },
    {
      "metadata": {
        "id": "YKQ_mRBttWsP",
        "colab_type": "text"
      },
      "cell_type": "markdown",
      "source": [
        "Respuesta"
      ]
    },
    {
      "metadata": {
        "id": "kAkDPUyRtYyH",
        "colab_type": "text"
      },
      "cell_type": "markdown",
      "source": [
        "Describe brevemente las lineas de como crees que es posible avanzar en el estudio del problema. Ten en cuenta incluso posibles variaciones del problema y/o variaciones al alza del tamaño"
      ]
    },
    {
      "metadata": {
        "id": "IE0uZmo-tZu-",
        "colab_type": "text"
      },
      "cell_type": "markdown",
      "source": [
        "Respuesta"
      ]
    }
  ]
}