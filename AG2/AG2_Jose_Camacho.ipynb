{
  "nbformat": 4,
  "nbformat_minor": 0,
  "metadata": {
    "colab": {
      "name": "AG2_Jose_Camacho.ipynb",
      "version": "0.3.2",
      "provenance": [],
      "collapsed_sections": [],
      "include_colab_link": true
    },
    "kernelspec": {
      "name": "python3",
      "display_name": "Python 3"
    }
  },
  "cells": [
    {
      "cell_type": "markdown",
      "metadata": {
        "id": "view-in-github",
        "colab_type": "text"
      },
      "source": [
        "<a href=\"https://colab.research.google.com/github/camachoandres88/03MAIR-Algoritmos-de-optimizacion/blob/master/AG2/AG2_Jose_Camacho.ipynb\" target=\"_parent\"><img src=\"https://colab.research.google.com/assets/colab-badge.svg\" alt=\"Open In Colab\"/></a>"
      ]
    },
    {
      "metadata": {
        "id": "6xuTCddKo_qM",
        "colab_type": "text"
      },
      "cell_type": "markdown",
      "source": [
        "AG2 - Actividad Guiada 2 <br>\n",
        "Jose Andres Camacho Pimentel <br>\n",
        "https://github.com/camachoandres88/03MAIR-Algoritmos-de-optimizacion/tree/master/AG2"
      ]
    },
    {
      "metadata": {
        "id": "SNUsfcnOgQ4T",
        "colab_type": "code",
        "colab": {}
      },
      "cell_type": "code",
      "source": [
        "from time import time\n",
        "#Función para calcular el tiempo de ejecución\n",
        "def calcular_tiempo(f):\n",
        "   \n",
        "    def wrapper(*args, **kwargs):     \n",
        "        inicio = time()       \n",
        "        resultado = f(*args, **kwargs)       \n",
        "        tiempo = time() - inicio\n",
        "        print(\"Tiempo de ejecución para algoritmo: \"+str(tiempo))\n",
        "        return resultado\n",
        "    \n",
        "    return wrapper\n",
        "from time import time"
      ],
      "execution_count": 0,
      "outputs": []
    },
    {
      "metadata": {
        "id": "ObDInmoX3a3V",
        "colab_type": "code",
        "outputId": "a5fc8e77-2230-4924-9fc5-e2686af041d4",
        "colab": {
          "base_uri": "https://localhost:8080/",
          "height": 34
        }
      },
      "cell_type": "code",
      "source": [
        "import random\n",
        "import math\n",
        "\n",
        "N = 10\n",
        "LISTA_2D = [ (random.randrange(1,N*10), random.randrange(1,N*10)) for _ in range(N)]\n",
        "print(LISTA_2D)\n",
        "\n"
      ],
      "execution_count": 0,
      "outputs": [
        {
          "output_type": "stream",
          "text": [
            "[(75, 66), (79, 27), (95, 62), (5, 73), (6, 76), (70, 62), (14, 18), (84, 47), (20, 56), (77, 14)]\n"
          ],
          "name": "stdout"
        }
      ]
    },
    {
      "metadata": {
        "id": "Vd0L73G16RA_",
        "colab_type": "code",
        "outputId": "328e7a72-2495-4bf9-ba06-c00c78c648dc",
        "colab": {
          "base_uri": "https://localhost:8080/",
          "height": 34
        }
      },
      "cell_type": "code",
      "source": [
        "def distancia(A, B):\n",
        "  if type(A) is int  or type(A) is float:\n",
        "    return abs(B - A)\n",
        "  else:\n",
        "    return math.sqrt(sum([(A[i] - B[i])**2  for i in range(len(A))]))\n",
        "\n",
        "  \n",
        "distancia((2,3),(2,5))"
      ],
      "execution_count": 0,
      "outputs": [
        {
          "output_type": "execute_result",
          "data": {
            "text/plain": [
              "2.0"
            ]
          },
          "metadata": {
            "tags": []
          },
          "execution_count": 27
        }
      ]
    },
    {
      "metadata": {
        "id": "MEe7QDCk6YrF",
        "colab_type": "code",
        "outputId": "1cef31c7-af17-4e90-9590-0e5699d5cbc5",
        "colab": {
          "base_uri": "https://localhost:8080/",
          "height": 34
        }
      },
      "cell_type": "code",
      "source": [
        "#Fuerza bruta\n",
        "\n",
        "\n",
        "def distancia_fuerza_bruta(L):\n",
        "  mejor_distancia = 10000000e10;\n",
        "  A, B = (),()\n",
        "  for i in range(len(L)):\n",
        "    for j in range(i+1, (len(L))):\n",
        "      D = distancia(L[i],L[j]);\n",
        "      if D < mejor_distancia:\n",
        "        A, B= L[i],L[j]\n",
        "        mejor_distancia = D\n",
        "  return [A,B]\n",
        "\n",
        "distancia_fuerza_bruta(LISTA_2D)\n",
        "      \n",
        "  "
      ],
      "execution_count": 0,
      "outputs": [
        {
          "output_type": "execute_result",
          "data": {
            "text/plain": [
              "[(5, 73), (6, 76)]"
            ]
          },
          "metadata": {
            "tags": []
          },
          "execution_count": 28
        }
      ]
    },
    {
      "metadata": {
        "id": "UcJf8ZhmiYZI",
        "colab_type": "code",
        "outputId": "cb8c432e-4668-4ccb-cfb0-045d12448149",
        "colab": {
          "base_uri": "https://localhost:8080/",
          "height": 51
        }
      },
      "cell_type": "code",
      "source": [
        "def distancia_divide_venceras(L):\n",
        "  if(len(L))< 10:\n",
        "    return distancia_fuerza_bruta(L)\n",
        " \n",
        "  #pivote = (sum[L[i][0] for i in range(len(L))])/ len(L)\n",
        "  #print(pivote)\n",
        "  \n",
        "  LISTA_IZQ = sorted(L,key=lambda x: x[0])[:len(L)//2]\n",
        "  LISTA_DER = sorted(L,key=lambda x: x[0])[len(L)//2:]\n",
        "  \n",
        "  PUNTOS_LISTA_IZQ = distancia_divide_venceras(LISTA_IZQ)\n",
        "  PUNTOS_LISTA_DER = distancia_divide_venceras(LISTA_DER)\n",
        "  \n",
        "  return distancia_fuerza_bruta( PUNTOS_LISTA_IZQ + PUNTOS_LISTA_DER)\n",
        "  \n",
        "  \n",
        "@calcular_tiempo\n",
        "def DISPARADOR(LISTA):\n",
        "  return distancia_divide_venceras(LISTA)\n",
        "  \n",
        "SOL = DISPARADOR(LISTA_2D)\n",
        "print(SOL)"
      ],
      "execution_count": 0,
      "outputs": [
        {
          "output_type": "stream",
          "text": [
            "Tiempo de ejecución para algoritmo: 9.131431579589844e-05\n",
            "[(5, 73), (6, 76)]\n"
          ],
          "name": "stdout"
        }
      ]
    },
    {
      "metadata": {
        "id": "whYCov59qGTU",
        "colab_type": "code",
        "outputId": "f33d605b-2234-4779-a32d-b4e3f06f3577",
        "colab": {
          "base_uri": "https://localhost:8080/",
          "height": 71
        }
      },
      "cell_type": "code",
      "source": [
        "#Paseo por el rio\n",
        "\n",
        "TARIFAS = [\n",
        "[0,5,4,3,999,999,999],\n",
        "[999,0,999,2,3,999,11],\n",
        "[999,999, 0,1,999,4,10],\n",
        "[999,999,999, 0,5,6,9],\n",
        "[999,999, 999,999,0,999,4],\n",
        "[999,999, 999,999,999,0,3],\n",
        "[999,999,999,999,999,999,0]\n",
        "]\n",
        "\n",
        "def precios(TARIFAS):\n",
        "  N = len(TARIFAS[0])\n",
        "  \n",
        "  PRECIOS = [[9999]*N for i in [9999]*N]\n",
        "  RUTA =  [[\"\"]*N for i in [9999]*N]\n",
        "  \n",
        "  \n",
        "  for i in range(N-1):\n",
        "    for j in range(i+1,N):\n",
        "      MIN = TARIFAS[i][j]\n",
        "      RUTA[i][j]=i\n",
        "      \n",
        "      for k in range(i,j):\n",
        "        if PRECIOS[i][k]+ TARIFAS[k][j] < MIN:\n",
        "            MIN = min( MIN , PRECIOS[i][k] + TARIFAS[k][j]) \n",
        "            RUTA[i][j] = k\n",
        "        PRECIOS[i][j] = MIN\n",
        "      \n",
        "  return PRECIOS, RUTA\n",
        "\n",
        "\n",
        "PRECIOS, RUTA = precios(TARIFAS)\n",
        "print(PRECIOS)\n",
        "print(RUTA)"
      ],
      "execution_count": 0,
      "outputs": [
        {
          "output_type": "stream",
          "text": [
            "[[9999, 5, 4, 3, 8, 8, 11], [9999, 9999, 999, 2, 3, 8, 7], [9999, 9999, 9999, 1, 6, 4, 7], [9999, 9999, 9999, 9999, 5, 6, 9], [9999, 9999, 9999, 9999, 9999, 999, 4], [9999, 9999, 9999, 9999, 9999, 9999, 3], [9999, 9999, 9999, 9999, 9999, 9999, 9999]]\n",
            "[['', 0, 0, 0, 1, 2, 5], ['', '', 1, 1, 1, 3, 4], ['', '', '', 2, 3, 2, 5], ['', '', '', '', 3, 3, 3], ['', '', '', '', '', 4, 4], ['', '', '', '', '', '', 5], ['', '', '', '', '', '', '']]\n"
          ],
          "name": "stdout"
        }
      ]
    },
    {
      "metadata": {
        "id": "yUiWgsJCzA9o",
        "colab_type": "code",
        "outputId": "5b8841ce-2353-407d-b400-61ced0966fd9",
        "colab": {
          "base_uri": "https://localhost:8080/",
          "height": 68
        }
      },
      "cell_type": "code",
      "source": [
        "def calcular_ruta(RUTA, desde, hasta):\n",
        "  if desde == hasta:\n",
        "    #print(\"Ir a :\" + str(desde))\n",
        "    return desde \n",
        "  else:\n",
        "    return str(calcular_ruta(RUTA, desde, RUTA[desde][hasta])) +  ',' + str(RUTA[desde][hasta]) \n",
        "\n",
        "print(\"\\nLa ruta es:\")  \n",
        "calcular_ruta(RUTA, 0,6)"
      ],
      "execution_count": 0,
      "outputs": [
        {
          "output_type": "stream",
          "text": [
            "\n",
            "La ruta es:\n"
          ],
          "name": "stdout"
        },
        {
          "output_type": "execute_result",
          "data": {
            "text/plain": [
              "'0,0,2,5'"
            ]
          },
          "metadata": {
            "tags": []
          },
          "execution_count": 49
        }
      ]
    }
  ]
}